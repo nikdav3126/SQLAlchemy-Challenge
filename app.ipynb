{
 "cells": [
  {
   "cell_type": "code",
   "execution_count": 1,
   "id": "28102043",
   "metadata": {},
   "outputs": [],
   "source": [
    "#install Dependents\n",
    "import numpy as np\n",
    "import datetime as dt\n",
    "import sqlalchemy \n",
    "\n",
    "from sqlalchemy.ext.automap import automap_base\n",
    "from sqlalchemy.orm import Session\n",
    "from sqlalchemy import create_engine, func\n",
    "\n",
    "from flask import Flask , jsonify"
   ]
  },
  {
   "cell_type": "code",
   "execution_count": 2,
   "id": "7cc1dd2d",
   "metadata": {
    "scrolled": false
   },
   "outputs": [],
   "source": [
    "#Create engine\n",
    "engine = create_engine(\"sqlite:///Resources/hawaii.sqlite\")"
   ]
  },
  {
   "cell_type": "code",
   "execution_count": 3,
   "id": "f812766e",
   "metadata": {},
   "outputs": [],
   "source": [
    "Base = automap_base()\n",
    "\n",
    "Base.prepare(engine, reflect=True)\n",
    "\n",
    "#Create reference for each table\n",
    "Measurement = Base.classes.measurement\n",
    "Station = Base.classes.station\n",
    "\n",
    "session = Session(engine)"
   ]
  },
  {
   "cell_type": "code",
   "execution_count": 4,
   "id": "7cfe7bef",
   "metadata": {},
   "outputs": [],
   "source": [
    "app = Flask(__name__)"
   ]
  },
  {
   "cell_type": "code",
   "execution_count": 5,
   "id": "1f7b6d71",
   "metadata": {},
   "outputs": [
    {
     "name": "stdout",
     "output_type": "stream",
     "text": [
      " * Serving Flask app \"__main__\" (lazy loading)\n",
      " * Environment: production\n",
      "\u001b[31m   WARNING: This is a development server. Do not use it in a production deployment.\u001b[0m\n",
      "\u001b[2m   Use a production WSGI server instead.\u001b[0m\n",
      " * Debug mode: on\n"
     ]
    },
    {
     "name": "stderr",
     "output_type": "stream",
     "text": [
      " * Restarting with watchdog (windowsapi)\n"
     ]
    },
    {
     "ename": "SystemExit",
     "evalue": "1",
     "output_type": "error",
     "traceback": [
      "An exception has occurred, use %tb to see the full traceback.\n",
      "\u001b[1;31mSystemExit\u001b[0m\u001b[1;31m:\u001b[0m 1\n"
     ]
    },
    {
     "name": "stderr",
     "output_type": "stream",
     "text": [
      "C:\\Users\\14043\\Downloads\\Newfolder\\lib\\site-packages\\IPython\\core\\interactiveshell.py:3452: UserWarning: To exit: use 'exit', 'quit', or Ctrl-D.\n",
      "  warn(\"To exit: use 'exit', 'quit', or Ctrl-D.\", stacklevel=1)\n"
     ]
    }
   ],
   "source": [
    "@app.route(\"/\")\n",
    "def homepage():\n",
    "    return (\n",
    "        f\"Available Routes:<br/>\"\n",
    "        f\"/api/v1.0/precipitation<br/>\"\n",
    "        f\"/api/v1.0/stations<br/>\"\n",
    "        f\"/api/v1.0/tobs<br>\"\n",
    "        f\"/api/v1.0/<start>/<end>\"\n",
    "        f\"<br>\")\n",
    "\n",
    "@app.route(\"/api/v1.0/precipitation\")\n",
    "def precipitation():\n",
    "    session = Session(engine)\n",
    "    \n",
    "    query = session.query(Measurement.date, Measurement.prcp).all()\n",
    "    \n",
    "    session.close()\n",
    "    \n",
    "    Precipitation = []\n",
    "    for date, prcp in query:\n",
    "        prcp_dict = {}\n",
    "        prcp_dict[\"Date\"] = date\n",
    "        prcp_dict[\"Precipitation\"] = prcp\n",
    "        precipitation.append(prcp_dict)\n",
    "          \n",
    "    return jsonify(Precipitation)\n",
    "\n",
    "    \n",
    "@app.route(\"/api/v1.0/precipitation\")\n",
    "def stations():\n",
    "    session = Session(engine)\n",
    "    \n",
    "    query = session.query(Station.station).all()\n",
    "\n",
    "    session.close()\n",
    "    \n",
    "    Station = []\n",
    "    for station_nm in query:\n",
    "        station_list.append(list(station_nm))\n",
    "    \n",
    "    return jsonify(Station)\n",
    "\n",
    "\n",
    "@app.route(\"/api/v1.0/tobs\")\n",
    "def tobs():\n",
    "    session = Session(engine)\n",
    "\n",
    "    query_date = dt.date(2017,8,23) - dt.timedelta(days = 365)\n",
    "\n",
    "    query = session.query(Measurement.tobs).\\\n",
    "    filter(Measurement.date >= query_date).\\\n",
    "    filter(Measurement.station == 'USC00519281').all()\n",
    "\n",
    "    session.close()\n",
    "\n",
    "    Tobs = list(np.ravel(results))\n",
    "    \n",
    "    return jsonify(Tobs)\n",
    "\n",
    "\n",
    "@app.route(\"/api/v1.0/<start>/<end>\")\n",
    "def boundaries(start, end):\n",
    "    Start_d = dt.datetime.strptime(f\"{start}\", \"%Y-%m-%d\")\n",
    "    End_d = dt.datetime.strptime(f\"{end}\", \"%Y-%m-%d\")\n",
    "    \n",
    "    Stat_avg = func.avg(Measurement.tobs)\n",
    "    Stat_min = func.min(Measurement.tobs)\n",
    "    Stat_max = func.max(Measurement.tobs)\n",
    "\n",
    "    query = session.query(Stat_avg, Stat_min, Stat_max).filter(Measurement.date >= Start_d).\\\n",
    "    filter(Measurement.date <= endDate).all()\n",
    "\n",
    "    session.close()\n",
    "\n",
    "    Bound = list(np.ravel(query))\n",
    "\n",
    "    return jsonify(Bound)\n",
    "\n",
    "\n",
    "if __name__ == \"__main__\":\n",
    "    app.run(debug = True)"
   ]
  },
  {
   "cell_type": "code",
   "execution_count": null,
   "id": "b25c6960",
   "metadata": {},
   "outputs": [],
   "source": []
  }
 ],
 "metadata": {
  "kernelspec": {
   "display_name": "Python 3 (ipykernel)",
   "language": "python",
   "name": "python3"
  },
  "language_info": {
   "codemirror_mode": {
    "name": "ipython",
    "version": 3
   },
   "file_extension": ".py",
   "mimetype": "text/x-python",
   "name": "python",
   "nbconvert_exporter": "python",
   "pygments_lexer": "ipython3",
   "version": "3.9.7"
  }
 },
 "nbformat": 4,
 "nbformat_minor": 5
}
